{
 "cells": [
  {
   "cell_type": "markdown",
   "id": "34b51cde",
   "metadata": {},
   "source": [
    "# Neptune ML"
   ]
  },
  {
   "cell_type": "markdown",
   "id": "58338a65",
   "metadata": {},
   "source": [
    "In this notebook, we will walk through the process of uploading our processed data to an Amazon Neptune database, querying the database with Gremlin, and using Neptune ML to train and deploy a machine learning-powered link prediction model.\n",
    "\n",
    "As a first step, read through the following documentation.  When you're ready to proceed, click the \"Launch Stack\" button for your desired AWS region to launch the CloudFormation stack in your account.  This will take care of creating the Neptune DB instance as well as the necessary infrastructure for Neptune ML.\n",
    "\n",
    "https://docs.aws.amazon.com/neptune/latest/userguide/machine-learning.html"
   ]
  },
  {
   "cell_type": "markdown",
   "id": "05454fae",
   "metadata": {},
   "source": [
    "Once the stack has been fully deployed, launch this notebook on the SageMaker Notebook instance that has been created by the stack.  Then you may run the following cells to import the included Neptune ML utilities we will use later on."
   ]
  },
  {
   "cell_type": "code",
   "execution_count": 1,
   "id": "a1816c95",
   "metadata": {},
   "outputs": [],
   "source": [
    "import sys\n",
    "sys.path.insert(0,'/home/ec2-user/SageMaker/Neptune/04-Machine-Learning')"
   ]
  },
  {
   "cell_type": "code",
   "execution_count": 2,
   "id": "87f60648",
   "metadata": {},
   "outputs": [
    {
     "name": "stdout",
     "output_type": "stream",
     "text": [
      "This Neptune cluster is configured to use Neptune ML\n"
     ]
    }
   ],
   "source": [
    "import neptune_ml_utils as neptune_ml\n",
    "neptune_ml.check_ml_enabled()"
   ]
  },
  {
   "cell_type": "code",
   "execution_count": 3,
   "id": "8c4fcb30",
   "metadata": {},
   "outputs": [],
   "source": [
    "import sagemaker\n",
    "\n",
    "sess = sagemaker.Session()\n",
    "bucket = sess.default_bucket()\n",
    "s3_bucket_uri = f\"s3://{bucket}\""
   ]
  },
  {
   "cell_type": "markdown",
   "id": "58c4f1d0",
   "metadata": {},
   "source": [
    "## Reset cluster (optional)"
   ]
  },
  {
   "cell_type": "markdown",
   "id": "d88dfdb3",
   "metadata": {},
   "source": [
    "Before we begin, we may clear out existing data from the Neptune DB instance if desired."
   ]
  },
  {
   "cell_type": "code",
   "execution_count": 4,
   "id": "6edd3b05",
   "metadata": {},
   "outputs": [],
   "source": [
    "import requests\n",
    "url = 'https://' + neptune_ml.get_host() + \":8182/system\""
   ]
  },
  {
   "cell_type": "markdown",
   "id": "19829053",
   "metadata": {},
   "source": [
    "### Initiate reset"
   ]
  },
  {
   "cell_type": "code",
   "execution_count": 5,
   "id": "0e2e3f3c",
   "metadata": {},
   "outputs": [
    {
     "name": "stdout",
     "output_type": "stream",
     "text": [
      "{'status': '200 OK', 'payload': {'token': '94c14d28-ea6d-abef-abb3-ba9c1f07ba20'}}\n"
     ]
    }
   ],
   "source": [
    "init_headers = {'Content-Type': 'application/json'}\n",
    "init_payload = '{ \"action\" : \"initiateDatabaseReset\" }'\n",
    "init_result = requests.post(url, data=init_payload, headers=init_headers)\n",
    "print(init_result.json())"
   ]
  },
  {
   "cell_type": "markdown",
   "id": "9d93013e",
   "metadata": {},
   "source": [
    "### Execute reset"
   ]
  },
  {
   "cell_type": "code",
   "execution_count": 6,
   "id": "0222fcc5",
   "metadata": {},
   "outputs": [
    {
     "name": "stdout",
     "output_type": "stream",
     "text": [
      "{'status': '200 OK'}\n"
     ]
    }
   ],
   "source": [
    "exec_headers = {'Content-Type': 'application/x-www-form-urlencoded'}\n",
    "exec_payload = 'action=performDatabaseReset&token=' + init_result.json()['payload']['token']\n",
    "exec_result = requests.post(url, data=exec_payload, headers=exec_headers)\n",
    "print(exec_result.json())"
   ]
  },
  {
   "cell_type": "markdown",
   "id": "8cea824f",
   "metadata": {},
   "source": [
    "## Load data from S3 into cluster"
   ]
  },
  {
   "cell_type": "code",
   "execution_count": 7,
   "id": "afc033f1",
   "metadata": {},
   "outputs": [
    {
     "name": "stdout",
     "output_type": "stream",
     "text": [
      "--2022-08-14 03:07:11--  https://d2125kp0qwrvcx.cloudfront.net/gremlin_data_from_pubmed_reduced100_node_v1_2.zip\n",
      "Resolving d2125kp0qwrvcx.cloudfront.net (d2125kp0qwrvcx.cloudfront.net)... 13.224.208.168, 13.224.208.177, 13.224.208.18, ...\n",
      "Connecting to d2125kp0qwrvcx.cloudfront.net (d2125kp0qwrvcx.cloudfront.net)|13.224.208.168|:443... connected.\n",
      "HTTP request sent, awaiting response... 200 OK\n",
      "Length: 13127073 (13M) [application/zip]\n",
      "Saving to: ‘gremlin_data_from_pubmed_reduced100_node_v1_2.zip.3’\n",
      "\n",
      "100%[======================================>] 13,127,073  51.8MB/s   in 0.2s   \n",
      "\n",
      "2022-08-14 03:07:11 (51.8 MB/s) - ‘gremlin_data_from_pubmed_reduced100_node_v1_2.zip.3’ saved [13127073/13127073]\n",
      "\n",
      "Archive:  gremlin_data_from_pubmed_reduced100_node_v1_2.zip\n",
      "   creating: gremlin_data_from_pubmed_reduced100_node_v1_2/\n",
      "   creating: gremlin_data_from_pubmed_reduced100_node_v1_2/nodes/\n",
      "  inflating: gremlin_data_from_pubmed_reduced100_node_v1_2/nodes/ROUTE_OR_MODE_nodes.csv  \n",
      "  inflating: gremlin_data_from_pubmed_reduced100_node_v1_2/nodes/FREQUENCY_nodes.csv  \n",
      "  inflating: gremlin_data_from_pubmed_reduced100_node_v1_2/nodes/ID_nodes.csv  \n",
      "  inflating: gremlin_data_from_pubmed_reduced100_node_v1_2/nodes/DURATION_nodes.csv  \n",
      "  inflating: gremlin_data_from_pubmed_reduced100_node_v1_2/nodes/doc_nodes.csv  \n",
      "  inflating: gremlin_data_from_pubmed_reduced100_node_v1_2/nodes/ACUITY_nodes.csv  \n",
      "  inflating: gremlin_data_from_pubmed_reduced100_node_v1_2/nodes/DX_NAME_nodes.csv  \n",
      "  inflating: gremlin_data_from_pubmed_reduced100_node_v1_2/nodes/TEST_UNIT_nodes.csv  \n",
      "  inflating: gremlin_data_from_pubmed_reduced100_node_v1_2/nodes/NAME_nodes.csv  \n",
      "  inflating: gremlin_data_from_pubmed_reduced100_node_v1_2/nodes/URL_nodes.csv  \n",
      "  inflating: gremlin_data_from_pubmed_reduced100_node_v1_2/nodes/DATE_nodes.csv  \n",
      "  inflating: gremlin_data_from_pubmed_reduced100_node_v1_2/nodes/GENERIC_NAME_nodes.csv  \n",
      "  inflating: gremlin_data_from_pubmed_reduced100_node_v1_2/nodes/BRAND_NAME_nodes.csv  \n",
      "  inflating: gremlin_data_from_pubmed_reduced100_node_v1_2/nodes/ADDRESS_nodes.csv  \n",
      "  inflating: gremlin_data_from_pubmed_reduced100_node_v1_2/nodes/TEST_NAME_nodes.csv  \n",
      "  inflating: gremlin_data_from_pubmed_reduced100_node_v1_2/nodes/AGE_nodes.csv  \n",
      "  inflating: gremlin_data_from_pubmed_reduced100_node_v1_2/nodes/DOSAGE_nodes.csv  \n",
      "  inflating: gremlin_data_from_pubmed_reduced100_node_v1_2/nodes/PROCEDURE_NAME_nodes.csv  \n",
      "  inflating: gremlin_data_from_pubmed_reduced100_node_v1_2/nodes/STRENGTH_nodes.csv  \n",
      "  inflating: gremlin_data_from_pubmed_reduced100_node_v1_2/nodes/PHONE_OR_FAX_nodes.csv  \n",
      "  inflating: gremlin_data_from_pubmed_reduced100_node_v1_2/nodes/TREATMENT_NAME_nodes.csv  \n",
      "  inflating: gremlin_data_from_pubmed_reduced100_node_v1_2/nodes/DIRECTION_nodes.csv  \n",
      "  inflating: gremlin_data_from_pubmed_reduced100_node_v1_2/nodes/FORM_nodes.csv  \n",
      "  inflating: gremlin_data_from_pubmed_reduced100_node_v1_2/nodes/SYSTEM_ORGAN_SITE_nodes.csv  \n",
      "  inflating: gremlin_data_from_pubmed_reduced100_node_v1_2/nodes/PROFESSION_nodes.csv  \n",
      "  inflating: gremlin_data_from_pubmed_reduced100_node_v1_2/nodes/TEST_VALUE_nodes.csv  \n",
      "   creating: gremlin_data_from_pubmed_reduced100_node_v1_2/edges/\n",
      "  inflating: gremlin_data_from_pubmed_reduced100_node_v1_2/edges/FORM_edges.csv  \n",
      "  inflating: gremlin_data_from_pubmed_reduced100_node_v1_2/edges/DIRECTION_edges.csv  \n",
      "  inflating: gremlin_data_from_pubmed_reduced100_node_v1_2/edges/TEST_VALUE_edges.csv  \n",
      "  inflating: gremlin_data_from_pubmed_reduced100_node_v1_2/edges/FREQUENCY_edges.csv  \n",
      "  inflating: gremlin_data_from_pubmed_reduced100_node_v1_2/edges/ROUTE_OR_MODE_edges.csv  \n",
      "  inflating: gremlin_data_from_pubmed_reduced100_node_v1_2/edges/DURATION_edges.csv  \n",
      "  inflating: gremlin_data_from_pubmed_reduced100_node_v1_2/edges/STRENGTH_edges.csv  \n",
      "  inflating: gremlin_data_from_pubmed_reduced100_node_v1_2/edges/ACUITY_edges.csv  \n",
      "  inflating: gremlin_data_from_pubmed_reduced100_node_v1_2/edges/DOSAGE_edges.csv  \n",
      "  inflating: gremlin_data_from_pubmed_reduced100_node_v1_2/edges/TEST_UNIT_edges.csv  \n",
      "  inflating: gremlin_data_from_pubmed_reduced100_node_v1_2/edges/SYSTEM_ORGAN_SITE_edges.csv  \n",
      "  inflating: gremlin_data_from_pubmed_reduced100_node_v1_2/edges/doc2text_edges.csv  \n",
      "upload: gremlin_data_from_pubmed_reduced100_node_v1_2/edges/ACUITY_edges.csv to s3://sagemaker-us-east-1-897753131392/gremlin_data_from_pubmed_reduced100_node_v1_2/edges/ACUITY_edges.csv\n",
      "upload: gremlin_data_from_pubmed_reduced100_node_v1_2/edges/DOSAGE_edges.csv to s3://sagemaker-us-east-1-897753131392/gremlin_data_from_pubmed_reduced100_node_v1_2/edges/DOSAGE_edges.csv\n",
      "upload: gremlin_data_from_pubmed_reduced100_node_v1_2/edges/STRENGTH_edges.csv to s3://sagemaker-us-east-1-897753131392/gremlin_data_from_pubmed_reduced100_node_v1_2/edges/STRENGTH_edges.csv\n",
      "upload: gremlin_data_from_pubmed_reduced100_node_v1_2/edges/DURATION_edges.csv to s3://sagemaker-us-east-1-897753131392/gremlin_data_from_pubmed_reduced100_node_v1_2/edges/DURATION_edges.csv\n",
      "upload: gremlin_data_from_pubmed_reduced100_node_v1_2/edges/DIRECTION_edges.csv to s3://sagemaker-us-east-1-897753131392/gremlin_data_from_pubmed_reduced100_node_v1_2/edges/DIRECTION_edges.csv\n",
      "upload: gremlin_data_from_pubmed_reduced100_node_v1_2/edges/ROUTE_OR_MODE_edges.csv to s3://sagemaker-us-east-1-897753131392/gremlin_data_from_pubmed_reduced100_node_v1_2/edges/ROUTE_OR_MODE_edges.csv\n",
      "upload: gremlin_data_from_pubmed_reduced100_node_v1_2/edges/TEST_UNIT_edges.csv to s3://sagemaker-us-east-1-897753131392/gremlin_data_from_pubmed_reduced100_node_v1_2/edges/TEST_UNIT_edges.csv\n",
      "upload: gremlin_data_from_pubmed_reduced100_node_v1_2/nodes/ACUITY_nodes.csv to s3://sagemaker-us-east-1-897753131392/gremlin_data_from_pubmed_reduced100_node_v1_2/nodes/ACUITY_nodes.csv\n",
      "upload: gremlin_data_from_pubmed_reduced100_node_v1_2/nodes/ADDRESS_nodes.csv to s3://sagemaker-us-east-1-897753131392/gremlin_data_from_pubmed_reduced100_node_v1_2/nodes/ADDRESS_nodes.csv\n",
      "upload: gremlin_data_from_pubmed_reduced100_node_v1_2/edges/FORM_edges.csv to s3://sagemaker-us-east-1-897753131392/gremlin_data_from_pubmed_reduced100_node_v1_2/edges/FORM_edges.csv\n",
      "upload: gremlin_data_from_pubmed_reduced100_node_v1_2/edges/FREQUENCY_edges.csv to s3://sagemaker-us-east-1-897753131392/gremlin_data_from_pubmed_reduced100_node_v1_2/edges/FREQUENCY_edges.csv\n",
      "upload: gremlin_data_from_pubmed_reduced100_node_v1_2/edges/TEST_VALUE_edges.csv to s3://sagemaker-us-east-1-897753131392/gremlin_data_from_pubmed_reduced100_node_v1_2/edges/TEST_VALUE_edges.csv\n",
      "upload: gremlin_data_from_pubmed_reduced100_node_v1_2/nodes/AGE_nodes.csv to s3://sagemaker-us-east-1-897753131392/gremlin_data_from_pubmed_reduced100_node_v1_2/nodes/AGE_nodes.csv\n",
      "upload: gremlin_data_from_pubmed_reduced100_node_v1_2/nodes/DATE_nodes.csv to s3://sagemaker-us-east-1-897753131392/gremlin_data_from_pubmed_reduced100_node_v1_2/nodes/DATE_nodes.csv\n",
      "upload: gremlin_data_from_pubmed_reduced100_node_v1_2/nodes/DOSAGE_nodes.csv to s3://sagemaker-us-east-1-897753131392/gremlin_data_from_pubmed_reduced100_node_v1_2/nodes/DOSAGE_nodes.csv\n",
      "upload: gremlin_data_from_pubmed_reduced100_node_v1_2/nodes/BRAND_NAME_nodes.csv to s3://sagemaker-us-east-1-897753131392/gremlin_data_from_pubmed_reduced100_node_v1_2/nodes/BRAND_NAME_nodes.csv\n",
      "upload: gremlin_data_from_pubmed_reduced100_node_v1_2/edges/SYSTEM_ORGAN_SITE_edges.csv to s3://sagemaker-us-east-1-897753131392/gremlin_data_from_pubmed_reduced100_node_v1_2/edges/SYSTEM_ORGAN_SITE_edges.csv\n",
      "upload: gremlin_data_from_pubmed_reduced100_node_v1_2/nodes/DIRECTION_nodes.csv to s3://sagemaker-us-east-1-897753131392/gremlin_data_from_pubmed_reduced100_node_v1_2/nodes/DIRECTION_nodes.csv\n",
      "upload: gremlin_data_from_pubmed_reduced100_node_v1_2/nodes/PHONE_OR_FAX_nodes.csv to s3://sagemaker-us-east-1-897753131392/gremlin_data_from_pubmed_reduced100_node_v1_2/nodes/PHONE_OR_FAX_nodes.csv\n",
      "upload: gremlin_data_from_pubmed_reduced100_node_v1_2/nodes/NAME_nodes.csv to s3://sagemaker-us-east-1-897753131392/gremlin_data_from_pubmed_reduced100_node_v1_2/nodes/NAME_nodes.csv\n",
      "upload: gremlin_data_from_pubmed_reduced100_node_v1_2/nodes/GENERIC_NAME_nodes.csv to s3://sagemaker-us-east-1-897753131392/gremlin_data_from_pubmed_reduced100_node_v1_2/nodes/GENERIC_NAME_nodes.csv\n",
      "upload: gremlin_data_from_pubmed_reduced100_node_v1_2/nodes/DX_NAME_nodes.csv to s3://sagemaker-us-east-1-897753131392/gremlin_data_from_pubmed_reduced100_node_v1_2/nodes/DX_NAME_nodes.csv\n",
      "upload: gremlin_data_from_pubmed_reduced100_node_v1_2/nodes/ROUTE_OR_MODE_nodes.csv to s3://sagemaker-us-east-1-897753131392/gremlin_data_from_pubmed_reduced100_node_v1_2/nodes/ROUTE_OR_MODE_nodes.csv\n",
      "upload: gremlin_data_from_pubmed_reduced100_node_v1_2/nodes/PROFESSION_nodes.csv to s3://sagemaker-us-east-1-897753131392/gremlin_data_from_pubmed_reduced100_node_v1_2/nodes/PROFESSION_nodes.csv\n",
      "upload: gremlin_data_from_pubmed_reduced100_node_v1_2/nodes/STRENGTH_nodes.csv to s3://sagemaker-us-east-1-897753131392/gremlin_data_from_pubmed_reduced100_node_v1_2/nodes/STRENGTH_nodes.csv\n",
      "upload: gremlin_data_from_pubmed_reduced100_node_v1_2/nodes/TEST_UNIT_nodes.csv to s3://sagemaker-us-east-1-897753131392/gremlin_data_from_pubmed_reduced100_node_v1_2/nodes/TEST_UNIT_nodes.csv\n",
      "upload: gremlin_data_from_pubmed_reduced100_node_v1_2/nodes/URL_nodes.csv to s3://sagemaker-us-east-1-897753131392/gremlin_data_from_pubmed_reduced100_node_v1_2/nodes/URL_nodes.csv\n",
      "upload: gremlin_data_from_pubmed_reduced100_node_v1_2/nodes/SYSTEM_ORGAN_SITE_nodes.csv to s3://sagemaker-us-east-1-897753131392/gremlin_data_from_pubmed_reduced100_node_v1_2/nodes/SYSTEM_ORGAN_SITE_nodes.csv\n",
      "upload: gremlin_data_from_pubmed_reduced100_node_v1_2/nodes/PROCEDURE_NAME_nodes.csv to s3://sagemaker-us-east-1-897753131392/gremlin_data_from_pubmed_reduced100_node_v1_2/nodes/PROCEDURE_NAME_nodes.csv\n",
      "upload: gremlin_data_from_pubmed_reduced100_node_v1_2/nodes/DURATION_nodes.csv to s3://sagemaker-us-east-1-897753131392/gremlin_data_from_pubmed_reduced100_node_v1_2/nodes/DURATION_nodes.csv\n",
      "upload: gremlin_data_from_pubmed_reduced100_node_v1_2/nodes/FORM_nodes.csv to s3://sagemaker-us-east-1-897753131392/gremlin_data_from_pubmed_reduced100_node_v1_2/nodes/FORM_nodes.csv\n",
      "upload: gremlin_data_from_pubmed_reduced100_node_v1_2/nodes/TREATMENT_NAME_nodes.csv to s3://sagemaker-us-east-1-897753131392/gremlin_data_from_pubmed_reduced100_node_v1_2/nodes/TREATMENT_NAME_nodes.csv\n",
      "upload: gremlin_data_from_pubmed_reduced100_node_v1_2/nodes/TEST_VALUE_nodes.csv to s3://sagemaker-us-east-1-897753131392/gremlin_data_from_pubmed_reduced100_node_v1_2/nodes/TEST_VALUE_nodes.csv\n",
      "upload: gremlin_data_from_pubmed_reduced100_node_v1_2/nodes/TEST_NAME_nodes.csv to s3://sagemaker-us-east-1-897753131392/gremlin_data_from_pubmed_reduced100_node_v1_2/nodes/TEST_NAME_nodes.csv\n",
      "upload: gremlin_data_from_pubmed_reduced100_node_v1_2/nodes/doc_nodes.csv to s3://sagemaker-us-east-1-897753131392/gremlin_data_from_pubmed_reduced100_node_v1_2/nodes/doc_nodes.csv\n",
      "upload: gremlin_data_from_pubmed_reduced100_node_v1_2/nodes/ID_nodes.csv to s3://sagemaker-us-east-1-897753131392/gremlin_data_from_pubmed_reduced100_node_v1_2/nodes/ID_nodes.csv\n",
      "upload: gremlin_data_from_pubmed_reduced100_node_v1_2/nodes/FREQUENCY_nodes.csv to s3://sagemaker-us-east-1-897753131392/gremlin_data_from_pubmed_reduced100_node_v1_2/nodes/FREQUENCY_nodes.csv\n",
      "upload: gremlin_data_from_pubmed_reduced100_node_v1_2/edges/doc2text_edges.csv to s3://sagemaker-us-east-1-897753131392/gremlin_data_from_pubmed_reduced100_node_v1_2/edges/doc2text_edges.csv\n"
     ]
    }
   ],
   "source": [
    "# Download graph data\n",
    "data = \"gremlin_data_from_pubmed_reduced100_node_v1_2\"\n",
    "data_url = f\"https://d2125kp0qwrvcx.cloudfront.net/{data}.zip\"\n",
    "!rm -f $data_url\n",
    "!wget $data_url\n",
    "\n",
    "# Remove old version if it exists\n",
    "!rm -rf $data\n",
    "\n",
    "# Unzip graph data\n",
    "zipfile = f\"{data}.zip\"\n",
    "!unzip $zipfile\n",
    "\n",
    "# Copy graph data to S3\n",
    "!aws s3 cp $data $s3_bucket_uri/$data --recursive"
   ]
  },
  {
   "cell_type": "code",
   "execution_count": 16,
   "id": "965cd3c8",
   "metadata": {},
   "outputs": [
    {
     "data": {
      "application/vnd.jupyter.widget-view+json": {
       "model_id": "",
       "version_major": 2,
       "version_minor": 0
      },
      "text/plain": [
       "HBox(children=(Label(value='Source:', layout=Layout(display='flex', justify_content='flex-end', width='16%')),…"
      ]
     },
     "metadata": {},
     "output_type": "display_data"
    },
    {
     "data": {
      "application/vnd.jupyter.widget-view+json": {
       "model_id": "",
       "version_major": 2,
       "version_minor": 0
      },
      "text/plain": [
       "HBox(children=(Label(value='Format:', layout=Layout(display='flex', justify_content='flex-end', width='16%')),…"
      ]
     },
     "metadata": {},
     "output_type": "display_data"
    },
    {
     "data": {
      "application/vnd.jupyter.widget-view+json": {
       "model_id": "",
       "version_major": 2,
       "version_minor": 0
      },
      "text/plain": [
       "HBox(children=(Label(value='Region:', layout=Layout(display='flex', justify_content='flex-end', width='16%')),…"
      ]
     },
     "metadata": {},
     "output_type": "display_data"
    },
    {
     "data": {
      "application/vnd.jupyter.widget-view+json": {
       "model_id": "",
       "version_major": 2,
       "version_minor": 0
      },
      "text/plain": [
       "HBox(children=(Label(value='Load ARN:', layout=Layout(display='flex', justify_content='flex-end', width='16%')…"
      ]
     },
     "metadata": {},
     "output_type": "display_data"
    },
    {
     "data": {
      "application/vnd.jupyter.widget-view+json": {
       "model_id": "",
       "version_major": 2,
       "version_minor": 0
      },
      "text/plain": [
       "HBox(children=(Label(value='Mode:', layout=Layout(display='flex', justify_content='flex-end', width='16%')), D…"
      ]
     },
     "metadata": {},
     "output_type": "display_data"
    },
    {
     "data": {
      "application/vnd.jupyter.widget-view+json": {
       "model_id": "",
       "version_major": 2,
       "version_minor": 0
      },
      "text/plain": [
       "HBox(children=(Label(value='Fail on Error:', layout=Layout(display='flex', justify_content='flex-end', width='…"
      ]
     },
     "metadata": {},
     "output_type": "display_data"
    },
    {
     "data": {
      "application/vnd.jupyter.widget-view+json": {
       "model_id": "",
       "version_major": 2,
       "version_minor": 0
      },
      "text/plain": [
       "HBox(children=(Label(value='Parallelism:', layout=Layout(display='flex', justify_content='flex-end', width='16…"
      ]
     },
     "metadata": {},
     "output_type": "display_data"
    },
    {
     "data": {
      "application/vnd.jupyter.widget-view+json": {
       "model_id": "",
       "version_major": 2,
       "version_minor": 0
      },
      "text/plain": [
       "HBox(children=(Label(value='Update Single Cardinality:', layout=Layout(display='flex', justify_content='flex-e…"
      ]
     },
     "metadata": {},
     "output_type": "display_data"
    },
    {
     "data": {
      "application/vnd.jupyter.widget-view+json": {
       "model_id": "",
       "version_major": 2,
       "version_minor": 0
      },
      "text/plain": [
       "HBox(children=(Label(value='Queue Request:', layout=Layout(display='flex', justify_content='flex-end', width='…"
      ]
     },
     "metadata": {},
     "output_type": "display_data"
    },
    {
     "data": {
      "application/vnd.jupyter.widget-view+json": {
       "model_id": "",
       "version_major": 2,
       "version_minor": 0
      },
      "text/plain": [
       "HBox(children=(Label(value='Dependencies:', layout=Layout(display='flex', justify_content='flex-end', width='1…"
      ]
     },
     "metadata": {},
     "output_type": "display_data"
    },
    {
     "data": {
      "application/vnd.jupyter.widget-view+json": {
       "model_id": "",
       "version_major": 2,
       "version_minor": 0
      },
      "text/plain": [
       "HBox(children=(Label(value='Poll Load Status:', layout=Layout(display='flex', justify_content='flex-end', widt…"
      ]
     },
     "metadata": {},
     "output_type": "display_data"
    },
    {
     "data": {
      "application/vnd.jupyter.widget-view+json": {
       "model_id": "",
       "version_major": 2,
       "version_minor": 0
      },
      "text/plain": [
       "HBox(children=(Label(value='User Provided Edge Ids:', layout=Layout(display='none', justify_content='flex-end'…"
      ]
     },
     "metadata": {},
     "output_type": "display_data"
    },
    {
     "data": {
      "application/vnd.jupyter.widget-view+json": {
       "model_id": "",
       "version_major": 2,
       "version_minor": 0
      },
      "text/plain": [
       "HBox(children=(Label(value='Allow Empty Strings:', layout=Layout(display='flex', justify_content='flex-end', w…"
      ]
     },
     "metadata": {},
     "output_type": "display_data"
    },
    {
     "data": {
      "application/vnd.jupyter.widget-view+json": {
       "model_id": "",
       "version_major": 2,
       "version_minor": 0
      },
      "text/plain": [
       "HBox(children=(Label(value='Named Graph URI:', layout=Layout(display='none', justify_content='flex-end', width…"
      ]
     },
     "metadata": {},
     "output_type": "display_data"
    },
    {
     "data": {
      "application/vnd.jupyter.widget-view+json": {
       "model_id": "",
       "version_major": 2,
       "version_minor": 0
      },
      "text/plain": [
       "HBox(children=(Label(value='Base URI:', layout=Layout(display='none', justify_content='flex-end', width='16%')…"
      ]
     },
     "metadata": {},
     "output_type": "display_data"
    },
    {
     "data": {
      "application/vnd.jupyter.widget-view+json": {
       "model_id": "",
       "version_major": 2,
       "version_minor": 0
      },
      "text/plain": [
       "Button(description='Submit', style=ButtonStyle())"
      ]
     },
     "metadata": {},
     "output_type": "display_data"
    },
    {
     "data": {
      "application/vnd.jupyter.widget-view+json": {
       "model_id": "",
       "version_major": 2,
       "version_minor": 0
      },
      "text/plain": [
       "Output()"
      ]
     },
     "metadata": {},
     "output_type": "display_data"
    },
    {
     "data": {
      "application/vnd.jupyter.widget-view+json": {
       "model_id": "36f8240def1e48f28ab110a05d953ef7",
       "version_major": 2,
       "version_minor": 0
      },
      "text/plain": [
       "VBox(children=(HBox(children=(Label(value='Load ID: c2e0713a-4a0f-466a-825a-4260b6e40364'),)), HBox(children=(…"
      ]
     },
     "metadata": {},
     "output_type": "display_data"
    }
   ],
   "source": [
    "%load -s $s3_bucket_uri/$data/ -f csv -p OVERSUBSCRIBE --run"
   ]
  },
  {
   "cell_type": "markdown",
   "id": "6188b7da",
   "metadata": {},
   "source": [
    "## Query the Neptune DB"
   ]
  },
  {
   "cell_type": "markdown",
   "id": "1541974b",
   "metadata": {},
   "source": [
    "Once the Neptune upload has completed, we can use the `%%gremlin` cell magic to write queries to the database using the Gremlin language."
   ]
  },
  {
   "cell_type": "markdown",
   "id": "dde38075",
   "metadata": {},
   "source": [
    "### Nodes: count by label"
   ]
  },
  {
   "cell_type": "code",
   "execution_count": 17,
   "id": "bdc1de54",
   "metadata": {},
   "outputs": [
    {
     "data": {
      "application/vnd.jupyter.widget-view+json": {
       "model_id": "648e12dbf78e4a55935dd672201ea695",
       "version_major": 2,
       "version_minor": 0
      },
      "text/plain": [
       "Tab(children=(Output(layout=Layout(max_height='600px', overflow='scroll', width='100%')), Output(layout=Layout…"
      ]
     },
     "metadata": {},
     "output_type": "display_data"
    }
   ],
   "source": [
    "%%gremlin\n",
    "g.V().groupCount().by(label).unfold()"
   ]
  },
  {
   "cell_type": "markdown",
   "id": "b8849074",
   "metadata": {},
   "source": [
    "### Edges: count by label"
   ]
  },
  {
   "cell_type": "code",
   "execution_count": 18,
   "id": "897de821",
   "metadata": {},
   "outputs": [
    {
     "data": {
      "application/vnd.jupyter.widget-view+json": {
       "model_id": "56c4d1a6c1dc4dac9beda0c99cd2a152",
       "version_major": 2,
       "version_minor": 0
      },
      "text/plain": [
       "Tab(children=(Output(layout=Layout(max_height='600px', overflow='scroll', width='100%')), Output(layout=Layout…"
      ]
     },
     "metadata": {},
     "output_type": "display_data"
    }
   ],
   "source": [
    "%%gremlin\n",
    "g.E().groupCount().by(label).unfold()"
   ]
  },
  {
   "cell_type": "markdown",
   "id": "7982337b",
   "metadata": {},
   "source": [
    "### Visualize"
   ]
  },
  {
   "cell_type": "code",
   "execution_count": 19,
   "id": "67ef31b1",
   "metadata": {},
   "outputs": [
    {
     "data": {
      "application/vnd.jupyter.widget-view+json": {
       "model_id": "3575c2705e4449d9945d7420a9f9b089",
       "version_major": 2,
       "version_minor": 0
      },
      "text/plain": [
       "Tab(children=(Output(layout=Layout(max_height='600px', overflow='scroll', width='100%')), Force(network=<graph…"
      ]
     },
     "metadata": {},
     "output_type": "display_data"
    }
   ],
   "source": [
    "%%gremlin -p v,ine,outv,oute,inv,oute,inv\n",
    "g.V().hasLabel('SYSTEM_ORGAN_SITE').limit(1).\n",
    "inE().outV().outE().inV().outE().inV().path().by(valueMap(true))"
   ]
  },
  {
   "cell_type": "markdown",
   "id": "7ae3404c",
   "metadata": {},
   "source": [
    "## Export the relevant data and model configuration"
   ]
  },
  {
   "cell_type": "markdown",
   "id": "abd222f0",
   "metadata": {},
   "source": [
    "In this section, we leverage the Neptune ML utilities to export data from the Neptune DB instance back to S3 for machine learning.  The `export_params` dictionary specifies the relevant parameters for the export job depending on the problem we wish to solve.  In this case, we focus on the `DX_NAME` and `SYSTEM_ORGAN_SITE` nodes and the `SYSTEM_ORGAN_SITE` edges that connect them, with the goal of modeling those connections with machine learning."
   ]
  },
  {
   "cell_type": "code",
   "execution_count": 20,
   "id": "e318c794",
   "metadata": {},
   "outputs": [
    {
     "data": {
      "text/plain": [
       "'neptunedbcluster-xrdqjsgwoecq.cluster-clsfeqs8qtfx.us-east-1.neptune.amazonaws.com'"
      ]
     },
     "execution_count": 20,
     "metadata": {},
     "output_type": "execute_result"
    }
   ],
   "source": [
    "# DB Cluster\n",
    "neptune_ml.get_host()"
   ]
  },
  {
   "cell_type": "code",
   "execution_count": 21,
   "id": "2c97d4ed",
   "metadata": {},
   "outputs": [
    {
     "data": {
      "text/plain": [
       "'5wsuyars86.execute-api.us-east-1.amazonaws.com/v1'"
      ]
     },
     "execution_count": 21,
     "metadata": {},
     "output_type": "execute_result"
    }
   ],
   "source": [
    "# Export service\n",
    "neptune_ml.get_export_service_host()"
   ]
  },
  {
   "cell_type": "code",
   "execution_count": 22,
   "id": "4f441601",
   "metadata": {},
   "outputs": [
    {
     "data": {
      "text/plain": [
       "'s3://sagemaker-us-east-1-897753131392'"
      ]
     },
     "execution_count": 22,
     "metadata": {},
     "output_type": "execute_result"
    }
   ],
   "source": [
    "s3_bucket_uri"
   ]
  },
  {
   "cell_type": "code",
   "execution_count": 23,
   "id": "9faf6b67",
   "metadata": {},
   "outputs": [],
   "source": [
    "# Define export params\n",
    "export_params = {\n",
    "    \"params\": {\n",
    "        \"endpoint\": neptune_ml.get_host(),\n",
    "        \"profile\" : \"neptune_ml\",\n",
    "        \"cloneCluster\": False,\n",
    "        \"filter\" : {\n",
    "          \"nodes\" : [\n",
    "            {\n",
    "              \"label\" : \"DX_NAME\",\n",
    "              \"properties\" : [\"Name\"]\n",
    "            },\n",
    "            {\n",
    "              \"label\" : \"SYSTEM_ORGAN_SITE\",\n",
    "              \"properties\" : [\"Name\"]\n",
    "            }\n",
    "          ],\n",
    "          \"edges\" : [\n",
    "            {\n",
    "              \"label\" : \"SYSTEM_ORGAN_SITE\",\n",
    "              \"properties\" : [\"RelationshipScore\"]\n",
    "            }\n",
    "          ]\n",
    "        },\n",
    "        \"nodeLabels\" : [\"DX_NAME\", \"SYSTEM_ORGAN_SITE\"],\n",
    "        \"edgeLabels\" : [\"SYSTEM_ORGAN_SITE\"],\n",
    "    }, \n",
    "    \"outputS3Path\": f'{s3_bucket_uri}/neptune-export',\n",
    "    \"additionalParams\": {\n",
    "        \"neptune_ml\": {\n",
    "            \"version\": \"v2.0\",\n",
    "            \"targets\": [\n",
    "                {\n",
    "                    \"edge\": [\"DX_NAME\", \"SYSTEM_ORGAN_SITE\", \"SYSTEM_ORGAN_SITE\"],\n",
    "                    \"type\" : \"link_prediction\",\n",
    "                    \"split_rate\": [0.9, 0.1, 0.0]\n",
    "                }\n",
    "            ],\n",
    "            \"features\": [\n",
    "                {\n",
    "                    \"node\": \"SYSTEM_ORGAN_SITE\",\n",
    "                    \"property\": \"Name\",\n",
    "#                     \"type\": \"auto\"\n",
    "                    \"type\": \"text_word2vec\",\n",
    "                    \"language\": \"en_core_web_lg\"\n",
    "                },\n",
    "                {\n",
    "                    \"node\": \"DX_NAME\",\n",
    "                    \"property\": \"Name\",\n",
    "#                     \"type\": \"auto\"\n",
    "                    \"type\": \"text_word2vec\",\n",
    "                    \"language\": \"en_core_web_lg\"\n",
    "                },\n",
    "                {\n",
    "                    \"edge\": [\"DX_NAME\", \"SYSTEM_ORGAN_SITE\", \"SYSTEM_ORGAN_SITE\"],\n",
    "                    \"property\": \"RelationshipScore\",\n",
    "#                     \"type\": \"auto\"\n",
    "                    \"type\": \"numerical\",\n",
    "                    \"norm\": \"none\"\n",
    "                },\n",
    "            ]\n",
    "        }\n",
    "    },\n",
    "    \"jobSize\": \"medium\"\n",
    "}"
   ]
  },
  {
   "cell_type": "markdown",
   "id": "d811221c",
   "metadata": {},
   "source": [
    "Use cell magic to start the export."
   ]
  },
  {
   "cell_type": "code",
   "execution_count": 24,
   "id": "5f579bc3",
   "metadata": {},
   "outputs": [
    {
     "data": {
      "application/vnd.jupyter.widget-view+json": {
       "model_id": "3b109c3961624a05a08dc1aa64f4511b",
       "version_major": 2,
       "version_minor": 0
      },
      "text/plain": [
       "Output()"
      ]
     },
     "metadata": {},
     "output_type": "display_data"
    }
   ],
   "source": [
    "%%neptune_ml export start --export-url {neptune_ml.get_export_service_host()} --export-iam --wait --store-to export_results \n",
    "${export_params}"
   ]
  },
  {
   "cell_type": "code",
   "execution_count": 25,
   "id": "24e9cdb4",
   "metadata": {},
   "outputs": [
    {
     "data": {
      "text/plain": [
       "'s3://sagemaker-us-east-1-897753131392/neptune-export/20220814_031207'"
      ]
     },
     "execution_count": 25,
     "metadata": {},
     "output_type": "execute_result"
    }
   ],
   "source": [
    "# Check output S3 location\n",
    "export_results['outputS3Uri']"
   ]
  },
  {
   "cell_type": "markdown",
   "id": "ea1c96dd",
   "metadata": {},
   "source": [
    "## Data processing"
   ]
  },
  {
   "cell_type": "markdown",
   "id": "ecf86d42",
   "metadata": {},
   "source": [
    "In this section, we use the Neptune ML utilities to run a data processing job in the exported data given the specified `processing_params`."
   ]
  },
  {
   "cell_type": "code",
   "execution_count": 26,
   "id": "845e6517",
   "metadata": {},
   "outputs": [],
   "source": [
    "# The training_job_name can be set to a unique value below, otherwise one will be auto generated\n",
    "training_job_name=neptune_ml.get_training_job_name('link-prediction')\n",
    "\n",
    "processing_params = f\"\"\"\n",
    "--config-file-name training-data-configuration.json\n",
    "--job-id {training_job_name}\n",
    "--s3-input-uri {export_results['outputS3Uri']}\n",
    "--s3-processed-uri {str(s3_bucket_uri)}/preloading\n",
    "--instance-type ml.m5.xlarge\"\"\""
   ]
  },
  {
   "cell_type": "markdown",
   "id": "b6c4bb79",
   "metadata": {},
   "source": [
    "Use the line magic to start the data processing."
   ]
  },
  {
   "cell_type": "code",
   "execution_count": 27,
   "id": "8ba4d8cb",
   "metadata": {},
   "outputs": [
    {
     "data": {
      "application/vnd.jupyter.widget-view+json": {
       "model_id": "a0576abc04174cc78a705c4e94513c79",
       "version_major": 2,
       "version_minor": 0
      },
      "text/plain": [
       "Output()"
      ]
     },
     "metadata": {},
     "output_type": "display_data"
    }
   ],
   "source": [
    "%neptune_ml dataprocessing start --wait --store-to processing_results {processing_params}"
   ]
  },
  {
   "cell_type": "markdown",
   "id": "e4f35dff",
   "metadata": {},
   "source": [
    "## Model training"
   ]
  },
  {
   "cell_type": "markdown",
   "id": "7c911b9c",
   "metadata": {},
   "source": [
    "Now that we've exported and processed the relevant data, we are ready to train our link prediction model.  Here we can specify the `instance_type` we would like to use to train our model, as well as the destination for the trained model object in S3."
   ]
  },
  {
   "cell_type": "code",
   "execution_count": 28,
   "id": "a1013e35",
   "metadata": {},
   "outputs": [],
   "source": [
    "training_params=f\"\"\"\n",
    "--job-id {training_job_name}\n",
    "--data-processing-id {training_job_name}\n",
    "--instance-type ml.m5.xlarge\n",
    "--s3-output-uri {str(s3_bucket_uri)}/training\"\"\""
   ]
  },
  {
   "cell_type": "markdown",
   "id": "baa4af53",
   "metadata": {},
   "source": [
    "Use line magic to train the model."
   ]
  },
  {
   "cell_type": "code",
   "execution_count": 29,
   "id": "7ecf459b",
   "metadata": {},
   "outputs": [
    {
     "data": {
      "application/vnd.jupyter.widget-view+json": {
       "model_id": "0a705c66dabd483e8b0e2fc698a58b60",
       "version_major": 2,
       "version_minor": 0
      },
      "text/plain": [
       "Output()"
      ]
     },
     "metadata": {},
     "output_type": "display_data"
    }
   ],
   "source": [
    "%neptune_ml training start --wait --store-to training_results {training_params}"
   ]
  },
  {
   "cell_type": "markdown",
   "id": "89bede09",
   "metadata": {},
   "source": [
    "## Endpoint creation"
   ]
  },
  {
   "cell_type": "markdown",
   "id": "c8f2c071",
   "metadata": {},
   "source": [
    "Finally, we can use Neptune ML to launch an endpoint that serves our trained model.  Importantly, this endpoint can be accessed from within Gremlin to seamlessly leverage model inference as part of a graph query."
   ]
  },
  {
   "cell_type": "code",
   "execution_count": 30,
   "id": "0561b43f",
   "metadata": {},
   "outputs": [],
   "source": [
    "endpoint_params=f\"\"\"\n",
    "--id {training_job_name}\n",
    "--model-training-job-id {training_job_name}\"\"\""
   ]
  },
  {
   "cell_type": "markdown",
   "id": "2ce20d8f",
   "metadata": {},
   "source": [
    "Use line magic to create the endpoint."
   ]
  },
  {
   "cell_type": "code",
   "execution_count": 31,
   "id": "381f28f8",
   "metadata": {},
   "outputs": [
    {
     "data": {
      "application/vnd.jupyter.widget-view+json": {
       "model_id": "6b655b68b24c4bde99d274e6e23407b4",
       "version_major": 2,
       "version_minor": 0
      },
      "text/plain": [
       "Output()"
      ]
     },
     "metadata": {},
     "output_type": "display_data"
    }
   ],
   "source": [
    "%neptune_ml endpoint create --wait --store-to endpoint_results {endpoint_params}"
   ]
  },
  {
   "cell_type": "code",
   "execution_count": 32,
   "id": "991e1ff7",
   "metadata": {},
   "outputs": [
    {
     "data": {
      "text/plain": [
       "'link-pre-2022-08-14-03-30-2140000-endpoint'"
      ]
     },
     "execution_count": 32,
     "metadata": {},
     "output_type": "execute_result"
    }
   ],
   "source": [
    "# Get the endpoint name\n",
    "endpoint = endpoint_results['endpoint']['name']\n",
    "endpoint"
   ]
  },
  {
   "cell_type": "markdown",
   "id": "b59d62d4",
   "metadata": {},
   "source": [
    "## Using the Endpoint to query the graph"
   ]
  },
  {
   "cell_type": "markdown",
   "id": "03f9c8fa",
   "metadata": {},
   "source": [
    "In this final section, we leverage our trained model endpoint to make link predictions using Gremlin.  In the first example, we begin with a specific `DX_NAME` node and use our ML model to predict the most probable connections to `SYSTEM_ORGAN_SITE` nodes.  In the second example we do the reverse, starting with a specific `SYSTEM_ORGAN_SITE` node and predicting the most probable connections to `DX_NAME` nodes.  In both examples, we compare the true connections that exist in the graph to the connections predicted by the model."
   ]
  },
  {
   "cell_type": "markdown",
   "id": "be9a8dcd",
   "metadata": {},
   "source": [
    "### Predict potential organ systems for a diagnosis"
   ]
  },
  {
   "cell_type": "code",
   "execution_count": 33,
   "id": "572a1cea",
   "metadata": {},
   "outputs": [
    {
     "data": {
      "application/vnd.jupyter.widget-view+json": {
       "model_id": "7c9c362d428a44ecb9d2140ca75e7ee1",
       "version_major": 2,
       "version_minor": 0
      },
      "text/plain": [
       "Tab(children=(Output(layout=Layout(max_height='600px', overflow='scroll', width='100%')), Output(layout=Layout…"
      ]
     },
     "metadata": {},
     "output_type": "display_data"
    }
   ],
   "source": [
    "%%gremlin\n",
    "g.V().hasLabel('DX_NAME').limit(10).valueMap()"
   ]
  },
  {
   "cell_type": "code",
   "execution_count": 34,
   "id": "8aaa9010",
   "metadata": {},
   "outputs": [],
   "source": [
    "# Set diagnosis name to analyze with ML\n",
    "diagnosis_name = 'infection'"
   ]
  },
  {
   "cell_type": "code",
   "execution_count": 35,
   "id": "c312d5a0",
   "metadata": {},
   "outputs": [
    {
     "data": {
      "application/vnd.jupyter.widget-view+json": {
       "model_id": "59152117a1774628a0e62ae977862d07",
       "version_major": 2,
       "version_minor": 0
      },
      "text/plain": [
       "Tab(children=(Output(layout=Layout(max_height='600px', overflow='scroll', width='100%')), Output(layout=Layout…"
      ]
     },
     "metadata": {},
     "output_type": "display_data"
    }
   ],
   "source": [
    "%%gremlin\n",
    "g.V().hasLabel('DX_NAME').\n",
    "    has('Name', '${diagnosis_name}').\n",
    "    out('SYSTEM_ORGAN_SITE').\n",
    "    hasLabel('SYSTEM_ORGAN_SITE').valueMap()"
   ]
  },
  {
   "cell_type": "code",
   "execution_count": 36,
   "id": "2ea63ae8",
   "metadata": {},
   "outputs": [
    {
     "data": {
      "application/vnd.jupyter.widget-view+json": {
       "model_id": "581f72d50c594ce79320913f299869f5",
       "version_major": 2,
       "version_minor": 0
      },
      "text/plain": [
       "Tab(children=(Output(layout=Layout(max_height='600px', overflow='scroll', width='100%')), Output(layout=Layout…"
      ]
     },
     "metadata": {},
     "output_type": "display_data"
    }
   ],
   "source": [
    "%%gremlin\n",
    "g.with(\"Neptune#ml.endpoint\",\"${endpoint}\").\n",
    "    with(\"Neptune#ml.limit\", 10).\n",
    "    V().hasLabel('DX_NAME').\n",
    "    has('Name', '${diagnosis_name}').\n",
    "    out('SYSTEM_ORGAN_SITE').\n",
    "    with(\"Neptune#ml.prediction\").\n",
    "    hasLabel('SYSTEM_ORGAN_SITE').\n",
    "    valueMap()"
   ]
  },
  {
   "cell_type": "markdown",
   "id": "3b0dd5fa",
   "metadata": {},
   "source": [
    "### Predict potential diagnoses for an organ system"
   ]
  },
  {
   "cell_type": "code",
   "execution_count": 37,
   "id": "3fde68f5",
   "metadata": {},
   "outputs": [
    {
     "data": {
      "application/vnd.jupyter.widget-view+json": {
       "model_id": "a145a1fae4e549689ed7b08cd3150bab",
       "version_major": 2,
       "version_minor": 0
      },
      "text/plain": [
       "Tab(children=(Output(layout=Layout(max_height='600px', overflow='scroll', width='100%')), Output(layout=Layout…"
      ]
     },
     "metadata": {},
     "output_type": "display_data"
    }
   ],
   "source": [
    "%%gremlin\n",
    "g.V().hasLabel('SYSTEM_ORGAN_SITE').limit(10).valueMap()"
   ]
  },
  {
   "cell_type": "code",
   "execution_count": 38,
   "id": "7a5c88cc",
   "metadata": {},
   "outputs": [],
   "source": [
    "# Set organ system to analyze with ML\n",
    "organ_system_name = 'brain'"
   ]
  },
  {
   "cell_type": "code",
   "execution_count": 39,
   "id": "75d360cc",
   "metadata": {},
   "outputs": [
    {
     "data": {
      "application/vnd.jupyter.widget-view+json": {
       "model_id": "7cbd9b4a196d49ef8070547c9c39e5e1",
       "version_major": 2,
       "version_minor": 0
      },
      "text/plain": [
       "Tab(children=(Output(layout=Layout(max_height='600px', overflow='scroll', width='100%')), Output(layout=Layout…"
      ]
     },
     "metadata": {},
     "output_type": "display_data"
    }
   ],
   "source": [
    "%%gremlin\n",
    "g.V().hasLabel('SYSTEM_ORGAN_SITE').\n",
    "    has('Name', '${organ_system_name}').\n",
    "    in('SYSTEM_ORGAN_SITE').\n",
    "    hasLabel('DX_NAME').valueMap()"
   ]
  },
  {
   "cell_type": "code",
   "execution_count": 40,
   "id": "40e78104",
   "metadata": {},
   "outputs": [
    {
     "data": {
      "application/vnd.jupyter.widget-view+json": {
       "model_id": "2637d1210c9c4bd89850e194c40c5a11",
       "version_major": 2,
       "version_minor": 0
      },
      "text/plain": [
       "Tab(children=(Output(layout=Layout(max_height='600px', overflow='scroll', width='100%')), Output(layout=Layout…"
      ]
     },
     "metadata": {},
     "output_type": "display_data"
    }
   ],
   "source": [
    "%%gremlin\n",
    "g.with(\"Neptune#ml.endpoint\",\"${endpoint}\").\n",
    "    with(\"Neptune#ml.limit\", 10).\n",
    "    V().hasLabel('SYSTEM_ORGAN_SITE').\n",
    "    has('Name', '${organ_system_name}').\n",
    "    in('SYSTEM_ORGAN_SITE').\n",
    "    with(\"Neptune#ml.prediction\").\n",
    "    hasLabel('DX_NAME').\n",
    "    valueMap()"
   ]
  },
  {
   "cell_type": "markdown",
   "id": "7fe66848",
   "metadata": {},
   "source": [
    "## Delete endpoint (optional)"
   ]
  },
  {
   "cell_type": "markdown",
   "id": "0133ded9",
   "metadata": {},
   "source": [
    "We can use the Neptune ML utilities to delete the SageMaker endpoint when we're done if we'd like."
   ]
  },
  {
   "cell_type": "code",
   "execution_count": 41,
   "id": "515cf04d",
   "metadata": {},
   "outputs": [
    {
     "name": "stdout",
     "output_type": "stream",
     "text": [
      "\n",
      "Endpoint link-prediction-1660446798 has been deleted\n"
     ]
    }
   ],
   "source": [
    "neptune_ml.delete_endpoint(training_job_name)"
   ]
  },
  {
   "cell_type": "code",
   "execution_count": null,
   "id": "fecbff10",
   "metadata": {},
   "outputs": [],
   "source": []
  }
 ],
 "metadata": {
  "kernelspec": {
   "display_name": "Python 3",
   "language": "python",
   "name": "python3"
  },
  "language_info": {
   "codemirror_mode": {
    "name": "ipython",
    "version": 3
   },
   "file_extension": ".py",
   "mimetype": "text/x-python",
   "name": "python",
   "nbconvert_exporter": "python",
   "pygments_lexer": "ipython3",
   "version": "3.7.12"
  }
 },
 "nbformat": 4,
 "nbformat_minor": 5
}
