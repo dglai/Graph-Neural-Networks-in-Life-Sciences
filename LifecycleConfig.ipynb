{
 "cells": [
  {
   "cell_type": "markdown",
   "id": "3d40a7b3",
   "metadata": {},
   "source": [
    "## Lifecycle Config"
   ]
  },
  {
   "cell_type": "code",
   "execution_count": null,
   "id": "54318bc8",
   "metadata": {},
   "outputs": [],
   "source": [
    "#!/bin/bash\n",
    "sudo -u ec2-user -i <<'EOF'\n",
    "\n",
    "conda activate pytorch_p38\n",
    "cd /home/ec2-user/SageMaker\n",
    "git clone --recurse-submodules -j8 https://github.com/dglai/Graph-Neural-Networks-in-Life-Sciences.git\n",
    "cd /home/ec2-user/SageMaker/Graph-Neural-Networks-in-Life-Sciences\n",
    "pip install dgl dglgo -f https://data.dgl.ai/wheels/repo.html\n",
    "pip install -r requirements.txt\n",
    "source /home/ec2-user/anaconda3/bin/deactivate\n",
    "\n",
    "EOF"
   ]
  }
 ],
 "metadata": {
  "kernelspec": {
   "display_name": "conda_pytorch_p38",
   "language": "python",
   "name": "conda_pytorch_p38"
  },
  "language_info": {
   "codemirror_mode": {
    "name": "ipython",
    "version": 3
   },
   "file_extension": ".py",
   "mimetype": "text/x-python",
   "name": "python",
   "nbconvert_exporter": "python",
   "pygments_lexer": "ipython3",
   "version": "3.8.12"
  }
 },
 "nbformat": 4,
 "nbformat_minor": 5
}
